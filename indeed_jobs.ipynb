{
  "cells": [
    {
      "cell_type": "markdown",
      "metadata": {
        "id": "w8b9PTFU5R4Q"
      },
      "source": [
        "# About\n",
        "- motivation: all sample projects on job market not specific to one job type, especially a relatively new field of careers related to data. Also no historical data, only cross sectional studies for a given year\n",
        "- sample: 30,000 jobs scraped from indeed.com for, cross-sectional sampling for 3 periods (2019, 2020, 2021)\n",
        "- focus: data jobs and careers\n",
        "- note: data is scraped over 3 month periods for given years, but are relatively spaced apart, so treat as cross-sectional studies\n",
        "## Planned analyses:\n",
        "- descriptive statistics:\n",
        "  - region vs jobs\n",
        "  - city vs jobs\n",
        "  - employer vs jobs\n",
        "  - levels of jobs\n",
        "  - seniority vs jobs, region, skills\n",
        "  - jobs vs skills \n",
        "  - jobs vs tools\n",
        "- bivariate: \n",
        "  - what predicts salary?\n",
        "  - what skills are in demand?\n",
        "  - what skills are more demanded for senior roles (career progression)?"
      ]
    },
    {
      "cell_type": "code",
      "execution_count": null,
      "metadata": {
        "colab": {
          "base_uri": "https://localhost:8080/"
        },
        "id": "nsJ458wtr62g",
        "outputId": "6a55176c-d3a5-4a77-c392-cd40381948ba"
      },
      "outputs": [
        {
          "ename": "",
          "evalue": "",
          "output_type": "error",
          "traceback": [
            "\u001b[1;31mJupyter cannot be started. Error attempting to locate Jupyter: Running cells with 'Python 3.10.6 ('venv': venv)' requires notebook and jupyter package.\n",
            "\u001b[1;31mRun the following command to install 'jupyter and notebook' into the Python environment. \n",
            "\u001b[1;31mCommand: 'python -m pip install jupyter notebook -U\n",
            "\u001b[1;31mor\n",
            "\u001b[1;31mconda install jupyter notebook -U'\n",
            "\u001b[1;31mClick <a href='https://aka.ms/installJupyterForVSCode'>here</a> for more info."
          ]
        }
      ],
      "source": [
        "from google.colab import auth\n",
        "auth.authenticate_user()\n",
        "!gsutil cp gs://FILEPATH /tmp/jobs2019.ldjson\n",
        "!gsutil cp gs://FILEPATH /tmp/jobs2020.ldjson\n",
        "!gsutil cp gs://FILEPATH /tmp/jobs2021.ldjson"
      ]
    },
    {
      "cell_type": "code",
      "execution_count": 68,
      "metadata": {
        "id": "YlKcaprjP9wB"
      },
      "outputs": [],
      "source": [
        "import pandas as pd\n",
        "import numpy as np\n",
        "import matplotlib.pyplot as plt\n",
        "import seaborn as sns\n",
        "from scipy import stats\n",
        "\n",
        "jobs2019 = pd.read_json(open('/tmp/jobs2019.ldjson'), lines=True)\n",
        "jobs2020 = pd.read_json(open('/tmp/jobs2020.ldjson'), lines=True)\n",
        "jobs2021 = pd.read_json(open('/tmp/jobs2021.ldjson'), lines=True)"
      ]
    },
    {
      "cell_type": "code",
      "execution_count": 46,
      "metadata": {
        "colab": {
          "base_uri": "https://localhost:8080/"
        },
        "id": "utnOcsW1CH4c",
        "outputId": "6873b1ed-be7d-4aec-d196-3c89e323a476"
      },
      "outputs": [
        {
          "name": "stderr",
          "output_type": "stream",
          "text": [
            "/usr/local/lib/python3.7/dist-packages/ipykernel_launcher.py:25: SettingWithCopyWarning: \n",
            "A value is trying to be set on a copy of a slice from a DataFrame.\n",
            "Try using .loc[row_indexer,col_indexer] = value instead\n",
            "\n",
            "See the caveats in the documentation: https://pandas.pydata.org/pandas-docs/stable/user_guide/indexing.html#returning-a-view-versus-a-copy\n"
          ]
        },
        {
          "name": "stdout",
          "output_type": "stream",
          "text": [
            "<class 'pandas.core.frame.DataFrame'>\n",
            "Int64Index: 2514 entries, 5 to 29907\n",
            "Data columns (total 9 columns):\n",
            " #   Column           Non-Null Count  Dtype \n",
            "---  ------           --------------  ----- \n",
            " 0   job_title        2514 non-null   object\n",
            " 1   category         2514 non-null   object\n",
            " 2   company_name     2514 non-null   object\n",
            " 3   city             2470 non-null   object\n",
            " 4   state            2337 non-null   object\n",
            " 5   country          2514 non-null   object\n",
            " 6   job_description  2514 non-null   object\n",
            " 7   y20              2514 non-null   int64 \n",
            " 8   y21              2514 non-null   int64 \n",
            "dtypes: int64(2), object(7)\n",
            "memory usage: 196.4+ KB\n"
          ]
        }
      ],
      "source": [
        "# useable columns after inspection of data\n",
        "columns = ['job_title', 'category', 'company_name', 'city', 'state', 'country', 'job_description']\n",
        "\n",
        "# re-order and keep useable columns\n",
        "jobs2019 = jobs2019[columns]\n",
        "jobs2020 = jobs2020[columns]\n",
        "jobs2021 = jobs2021[columns]\n",
        "\n",
        "# add indicator var for years\n",
        "jobs2019.loc[:, ['y20', 'y21']] = 0 \n",
        "jobs2020.loc[:, 'y20'] = 1\n",
        "jobs2020.loc[:, 'y21'] = 0\n",
        "jobs2021.loc[:, 'y20'] = 0\n",
        "jobs2021.loc[:, 'y21'] = 1\n",
        "\n",
        "# combine datasets\n",
        "df = pd.concat([jobs2019, jobs2020, jobs2021])\n",
        "\n",
        "# filter country\n",
        "df.loc[df['country'] == 'Usa', 'country'] = 'US'\n",
        "df = df[df['country'] == 'US']\n",
        "\n",
        "# format all strings to lowercase\n",
        "for col in columns:\n",
        "  df[col] = df[col].str.lower()\n",
        "\n",
        "# filter job_titles\n",
        "datajobs = ['data', 'analy', 'machine learning', 'business intelligence', \n",
        "            ' bi ', 'statistic', 'marketing scientist' ]\n",
        "df = df[df['job_title'].str.contains('|'.join(datajobs))]\n",
        "\n",
        "exceptionjobs = ['data entry', 'business', 'cultural', ' qa ', 'quality', 'lab', 'exploitation', 'clerk', ' qc ' , 'security', 'invest', 'bio', 'vulnerab', 'account', \n",
        "                 'portfolio', 'program', 'credit', 'treasury', 'imagery', 'intelligence', 'help desk', 'management analy', 'technical support', 'criminal', 'behavio', \n",
        "                 'field', 'policy', 'threat', 'pc', 'compliance']\n",
        "df = df[~df['job_title'].str.contains('|'.join(exceptionjobs))]\n",
        "\n",
        "# format state\n",
        "df.loc[:, 'state'] = df['state'].str[:2]\n",
        "\n",
        "df.info()"
      ]
    },
    {
      "cell_type": "markdown",
      "metadata": {
        "id": "PcWGwQz2C6MD"
      },
      "source": [
        "Data mine for seniority, skills, and tools data:\n",
        "- used indicator variables, since skills and tools can overlap\n",
        "- only used job description for skills and tools \n",
        "- note special handling for R in tools \n",
        "- one exception (risk manager) for seniority classification"
      ]
    },
    {
      "cell_type": "code",
      "execution_count": 51,
      "metadata": {
        "colab": {
          "base_uri": "https://localhost:8080/"
        },
        "id": "dgLdXIEh5vda",
        "outputId": "f186bea1-a2c7-4bdc-e62b-7592ecb489a3"
      },
      "outputs": [
        {
          "data": {
            "text/plain": [
              "(   transformation  technical  analysis  visualization\n",
              " 0            1678       1674       186           1963\n",
              " 1             836        840      2328            551,\n",
              "    python     r   sql  excel  tableau  power bi\n",
              " 0    2146  2348  1856    967     2275      2420\n",
              " 1     368   166   658   1547      239        94)"
            ]
          },
          "execution_count": 51,
          "metadata": {},
          "output_type": "execute_result"
        }
      ],
      "source": [
        "# create seniority indicator variable\n",
        "senior = ['ii', 'senior', 'manager']\n",
        "\n",
        "df['seniority'] = 0\n",
        "df.loc[(df['job_title'].str.contains('|'.join(senior))) | (df['job_description'].str.contains('|'.join(senior))),'seniority'] = 1\n",
        "df.loc[(df['job_title'].str.contains('risk manager')),'seniority'] = 0\n",
        "\n",
        "df['seniority'].value_counts()\n",
        "\n",
        "# create skill indicator variables\n",
        "skills = ['transformation', 'technical', 'analysis', 'visualization']\n",
        "df[skills] = [0, 0, 0, 0]\n",
        "\n",
        "transform = ['clean', 'data prepar', 'transform', 'wrangl', 'manipulat', 'validat']\n",
        "advanced = ['machine learn', 'ML', 'big data', 'engineer']\n",
        "analytical = ['analy', 'statistic']\n",
        "visual = ['visual', 'dashboard']\n",
        "\n",
        "df.loc[df['job_description'].str.contains('|'.join(transform)),'transformation'] = 1\n",
        "df.loc[df['job_description'].str.contains('|'.join(advanced)),'technical'] = 1\n",
        "df.loc[df['job_description'].str.contains('|'.join(analytical)),'analysis'] = 1\n",
        "df.loc[df['job_description'].str.contains('|'.join(visual)),'visualization'] = 1\n",
        "\n",
        "# create tool indicator variables\n",
        "tools = ['python', 'r', 'sql', 'excel', 'tableau', 'power bi']\n",
        "df[tools] = [0, 0, 0, 0, 0, 0]\n",
        "\n",
        "df.loc[df['job_description'].str.contains('python'),'python'] = 1\n",
        "df.loc[df['job_description'].str.contains(' r | r,|rstudio'),'r'] = 1\n",
        "df.loc[df['job_description'].str.contains('sql'),'sql'] = 1\n",
        "df.loc[df['job_description'].str.contains('excel'),'excel'] = 1\n",
        "df.loc[df['job_description'].str.contains('tableau'),'tableau'] = 1\n",
        "df.loc[df['job_description'].str.contains('power bi'),'power bi'] = 1\n",
        "\n",
        "df[skills].apply(df.value_counts), df[tools].apply(df.value_counts)"
      ]
    },
    {
      "cell_type": "markdown",
      "metadata": {
        "id": "A79T1WzrI6Dk"
      },
      "source": [
        "# univariate analysis\n",
        "- descriptive statistics:\n",
        "  - region vs jobs\n",
        "  - category vs jobs\n",
        "  - seniority vs jobs, region, skills\n",
        "  - jobs vs skills \n",
        "  - jobs vs tools\n",
        "- planned studies: \n",
        "  - what skills are in demand?\n",
        "  - what skills for seniority "
      ]
    },
    {
      "cell_type": "code",
      "execution_count": 47,
      "metadata": {
        "colab": {
          "base_uri": "https://localhost:8080/",
          "height": 829
        },
        "id": "WId2jBwrKAFl",
        "outputId": "be83d5eb-84ce-4581-a4d0-4ad8ec47cc45"
      },
      "outputs": [
        {
          "data": {
            "text/html": [
              "\n",
              "  <div id=\"df-cd93bfd9-5a51-426e-80b2-6b5f72f158cb\">\n",
              "    <div class=\"colab-df-container\">\n",
              "      <div>\n",
              "<style scoped>\n",
              "    .dataframe tbody tr th:only-of-type {\n",
              "        vertical-align: middle;\n",
              "    }\n",
              "\n",
              "    .dataframe tbody tr th {\n",
              "        vertical-align: top;\n",
              "    }\n",
              "\n",
              "    .dataframe thead th {\n",
              "        text-align: right;\n",
              "    }\n",
              "</style>\n",
              "<table border=\"1\" class=\"dataframe\">\n",
              "  <thead>\n",
              "    <tr style=\"text-align: right;\">\n",
              "      <th></th>\n",
              "      <th>state</th>\n",
              "      <th>frequency</th>\n",
              "      <th>proportion</th>\n",
              "      <th>percent</th>\n",
              "    </tr>\n",
              "  </thead>\n",
              "  <tbody>\n",
              "    <tr>\n",
              "      <th>0</th>\n",
              "      <td>ca</td>\n",
              "      <td>321.0</td>\n",
              "      <td>0.137356</td>\n",
              "      <td>13.7%</td>\n",
              "    </tr>\n",
              "    <tr>\n",
              "      <th>1</th>\n",
              "      <td>tx</td>\n",
              "      <td>198.0</td>\n",
              "      <td>0.084724</td>\n",
              "      <td>8.5%</td>\n",
              "    </tr>\n",
              "    <tr>\n",
              "      <th>2</th>\n",
              "      <td>ny</td>\n",
              "      <td>160.0</td>\n",
              "      <td>0.068464</td>\n",
              "      <td>6.8%</td>\n",
              "    </tr>\n",
              "    <tr>\n",
              "      <th>3</th>\n",
              "      <td>va</td>\n",
              "      <td>155.0</td>\n",
              "      <td>0.066324</td>\n",
              "      <td>6.6%</td>\n",
              "    </tr>\n",
              "    <tr>\n",
              "      <th>4</th>\n",
              "      <td>il</td>\n",
              "      <td>110.0</td>\n",
              "      <td>0.047069</td>\n",
              "      <td>4.7%</td>\n",
              "    </tr>\n",
              "    <tr>\n",
              "      <th>5</th>\n",
              "      <td>fl</td>\n",
              "      <td>109.0</td>\n",
              "      <td>0.046641</td>\n",
              "      <td>4.7%</td>\n",
              "    </tr>\n",
              "    <tr>\n",
              "      <th>6</th>\n",
              "      <td>md</td>\n",
              "      <td>83.0</td>\n",
              "      <td>0.035516</td>\n",
              "      <td>3.6%</td>\n",
              "    </tr>\n",
              "    <tr>\n",
              "      <th>7</th>\n",
              "      <td>ma</td>\n",
              "      <td>79.0</td>\n",
              "      <td>0.033804</td>\n",
              "      <td>3.4%</td>\n",
              "    </tr>\n",
              "    <tr>\n",
              "      <th>8</th>\n",
              "      <td>nc</td>\n",
              "      <td>76.0</td>\n",
              "      <td>0.032520</td>\n",
              "      <td>3.3%</td>\n",
              "    </tr>\n",
              "    <tr>\n",
              "      <th>9</th>\n",
              "      <td>ga</td>\n",
              "      <td>73.0</td>\n",
              "      <td>0.031237</td>\n",
              "      <td>3.1%</td>\n",
              "    </tr>\n",
              "    <tr>\n",
              "      <th>10</th>\n",
              "      <td>pa</td>\n",
              "      <td>73.0</td>\n",
              "      <td>0.031237</td>\n",
              "      <td>3.1%</td>\n",
              "    </tr>\n",
              "    <tr>\n",
              "      <th>11</th>\n",
              "      <td>dc</td>\n",
              "      <td>73.0</td>\n",
              "      <td>0.031237</td>\n",
              "      <td>3.1%</td>\n",
              "    </tr>\n",
              "    <tr>\n",
              "      <th>12</th>\n",
              "      <td>nj</td>\n",
              "      <td>65.0</td>\n",
              "      <td>0.027813</td>\n",
              "      <td>2.8%</td>\n",
              "    </tr>\n",
              "    <tr>\n",
              "      <th>13</th>\n",
              "      <td>oh</td>\n",
              "      <td>65.0</td>\n",
              "      <td>0.027813</td>\n",
              "      <td>2.8%</td>\n",
              "    </tr>\n",
              "    <tr>\n",
              "      <th>14</th>\n",
              "      <td>co</td>\n",
              "      <td>62.0</td>\n",
              "      <td>0.026530</td>\n",
              "      <td>2.7%</td>\n",
              "    </tr>\n",
              "    <tr>\n",
              "      <th>60</th>\n",
              "      <td>other</td>\n",
              "      <td>635.0</td>\n",
              "      <td>0.271716</td>\n",
              "      <td>27.2%</td>\n",
              "    </tr>\n",
              "  </tbody>\n",
              "</table>\n",
              "</div>\n",
              "      <button class=\"colab-df-convert\" onclick=\"convertToInteractive('df-cd93bfd9-5a51-426e-80b2-6b5f72f158cb')\"\n",
              "              title=\"Convert this dataframe to an interactive table.\"\n",
              "              style=\"display:none;\">\n",
              "        \n",
              "  <svg xmlns=\"http://www.w3.org/2000/svg\" height=\"24px\"viewBox=\"0 0 24 24\"\n",
              "       width=\"24px\">\n",
              "    <path d=\"M0 0h24v24H0V0z\" fill=\"none\"/>\n",
              "    <path d=\"M18.56 5.44l.94 2.06.94-2.06 2.06-.94-2.06-.94-.94-2.06-.94 2.06-2.06.94zm-11 1L8.5 8.5l.94-2.06 2.06-.94-2.06-.94L8.5 2.5l-.94 2.06-2.06.94zm10 10l.94 2.06.94-2.06 2.06-.94-2.06-.94-.94-2.06-.94 2.06-2.06.94z\"/><path d=\"M17.41 7.96l-1.37-1.37c-.4-.4-.92-.59-1.43-.59-.52 0-1.04.2-1.43.59L10.3 9.45l-7.72 7.72c-.78.78-.78 2.05 0 2.83L4 21.41c.39.39.9.59 1.41.59.51 0 1.02-.2 1.41-.59l7.78-7.78 2.81-2.81c.8-.78.8-2.07 0-2.86zM5.41 20L4 18.59l7.72-7.72 1.47 1.35L5.41 20z\"/>\n",
              "  </svg>\n",
              "      </button>\n",
              "      \n",
              "  <style>\n",
              "    .colab-df-container {\n",
              "      display:flex;\n",
              "      flex-wrap:wrap;\n",
              "      gap: 12px;\n",
              "    }\n",
              "\n",
              "    .colab-df-convert {\n",
              "      background-color: #E8F0FE;\n",
              "      border: none;\n",
              "      border-radius: 50%;\n",
              "      cursor: pointer;\n",
              "      display: none;\n",
              "      fill: #1967D2;\n",
              "      height: 32px;\n",
              "      padding: 0 0 0 0;\n",
              "      width: 32px;\n",
              "    }\n",
              "\n",
              "    .colab-df-convert:hover {\n",
              "      background-color: #E2EBFA;\n",
              "      box-shadow: 0px 1px 2px rgba(60, 64, 67, 0.3), 0px 1px 3px 1px rgba(60, 64, 67, 0.15);\n",
              "      fill: #174EA6;\n",
              "    }\n",
              "\n",
              "    [theme=dark] .colab-df-convert {\n",
              "      background-color: #3B4455;\n",
              "      fill: #D2E3FC;\n",
              "    }\n",
              "\n",
              "    [theme=dark] .colab-df-convert:hover {\n",
              "      background-color: #434B5C;\n",
              "      box-shadow: 0px 1px 3px 1px rgba(0, 0, 0, 0.15);\n",
              "      filter: drop-shadow(0px 1px 2px rgba(0, 0, 0, 0.3));\n",
              "      fill: #FFFFFF;\n",
              "    }\n",
              "  </style>\n",
              "\n",
              "      <script>\n",
              "        const buttonEl =\n",
              "          document.querySelector('#df-cd93bfd9-5a51-426e-80b2-6b5f72f158cb button.colab-df-convert');\n",
              "        buttonEl.style.display =\n",
              "          google.colab.kernel.accessAllowed ? 'block' : 'none';\n",
              "\n",
              "        async function convertToInteractive(key) {\n",
              "          const element = document.querySelector('#df-cd93bfd9-5a51-426e-80b2-6b5f72f158cb');\n",
              "          const dataTable =\n",
              "            await google.colab.kernel.invokeFunction('convertToInteractive',\n",
              "                                                     [key], {});\n",
              "          if (!dataTable) return;\n",
              "\n",
              "          const docLinkHtml = 'Like what you see? Visit the ' +\n",
              "            '<a target=\"_blank\" href=https://colab.research.google.com/notebooks/data_table.ipynb>data table notebook</a>'\n",
              "            + ' to learn more about interactive tables.';\n",
              "          element.innerHTML = '';\n",
              "          dataTable['output_type'] = 'display_data';\n",
              "          await google.colab.output.renderOutput(dataTable, element);\n",
              "          const docLink = document.createElement('div');\n",
              "          docLink.innerHTML = docLinkHtml;\n",
              "          element.appendChild(docLink);\n",
              "        }\n",
              "      </script>\n",
              "    </div>\n",
              "  </div>\n",
              "  "
            ],
            "text/plain": [
              "    state  frequency  proportion percent\n",
              "0      ca      321.0    0.137356   13.7%\n",
              "1      tx      198.0    0.084724    8.5%\n",
              "2      ny      160.0    0.068464    6.8%\n",
              "3      va      155.0    0.066324    6.6%\n",
              "4      il      110.0    0.047069    4.7%\n",
              "5      fl      109.0    0.046641    4.7%\n",
              "6      md       83.0    0.035516    3.6%\n",
              "7      ma       79.0    0.033804    3.4%\n",
              "8      nc       76.0    0.032520    3.3%\n",
              "9      ga       73.0    0.031237    3.1%\n",
              "10     pa       73.0    0.031237    3.1%\n",
              "11     dc       73.0    0.031237    3.1%\n",
              "12     nj       65.0    0.027813    2.8%\n",
              "13     oh       65.0    0.027813    2.8%\n",
              "14     co       62.0    0.026530    2.7%\n",
              "60  other      635.0    0.271716   27.2%"
            ]
          },
          "execution_count": 47,
          "metadata": {},
          "output_type": "execute_result"
        },
        {
          "data": {
            "image/png": "[encoded data removed]",
            "text/plain": [
              "<Figure size 432x288 with 1 Axes>"
            ]
          },
          "metadata": {
            "needs_background": "light"
          },
          "output_type": "display_data"
        }
      ],
      "source": [
        "statetable = df['state'].value_counts().rename_axis('state').reset_index(name='frequency')\n",
        "other_count = statetable.iloc[15:, 1].sum()\n",
        "statetable.loc[len(statetable['state']),:] = ['other', other_count]\n",
        "statetable = statetable.drop(list(range(15, 60)))\n",
        "\n",
        "statetable['proportion'] = statetable['frequency'] / (statetable['frequency'].sum())\n",
        "statetable['percent'] = statetable['proportion'].mul(100).round(1).astype(str) + '%'\n",
        "\n",
        "ax1 = sns.barplot(data=statetable, x='state', y='proportion', color=\"seagreen\")\n",
        "ax1.set(xlabel='State', ylabel='Proportion', title='Proportion of data jobs by state')\n",
        "\n",
        "# proportion for first 15 states \n",
        "statetable.iloc[:15,2].sum().round(3)*100\n",
        "statetable"
      ]
    },
    {
      "cell_type": "code",
      "execution_count": 48,
      "metadata": {
        "colab": {
          "base_uri": "https://localhost:8080/",
          "height": 672
        },
        "id": "gE-6ZyeS4Wv4",
        "outputId": "d6afef01-ca71-42df-bc09-d004dd85cd2d"
      },
      "outputs": [
        {
          "data": {
            "text/html": [
              "\n",
              "  <div id=\"df-7cdc0df0-2573-48f3-8982-4a235305a7f2\">\n",
              "    <div class=\"colab-df-container\">\n",
              "      <div>\n",
              "<style scoped>\n",
              "    .dataframe tbody tr th:only-of-type {\n",
              "        vertical-align: middle;\n",
              "    }\n",
              "\n",
              "    .dataframe tbody tr th {\n",
              "        vertical-align: top;\n",
              "    }\n",
              "\n",
              "    .dataframe thead th {\n",
              "        text-align: right;\n",
              "    }\n",
              "</style>\n",
              "<table border=\"1\" class=\"dataframe\">\n",
              "  <thead>\n",
              "    <tr style=\"text-align: right;\">\n",
              "      <th></th>\n",
              "      <th>industry</th>\n",
              "      <th>frequency</th>\n",
              "      <th>proportion</th>\n",
              "      <th>percent</th>\n",
              "    </tr>\n",
              "  </thead>\n",
              "  <tbody>\n",
              "    <tr>\n",
              "      <th>0</th>\n",
              "      <td>computer-or-internet</td>\n",
              "      <td>529.0</td>\n",
              "      <td>0.210422</td>\n",
              "      <td>21.0%</td>\n",
              "    </tr>\n",
              "    <tr>\n",
              "      <th>1</th>\n",
              "      <td>accounting-or-finance</td>\n",
              "      <td>376.0</td>\n",
              "      <td>0.149562</td>\n",
              "      <td>15.0%</td>\n",
              "    </tr>\n",
              "    <tr>\n",
              "      <th>2</th>\n",
              "      <td>administrative</td>\n",
              "      <td>245.0</td>\n",
              "      <td>0.097454</td>\n",
              "      <td>9.7%</td>\n",
              "    </tr>\n",
              "    <tr>\n",
              "      <th>3</th>\n",
              "      <td>manufacturing-or-mechanical</td>\n",
              "      <td>185.0</td>\n",
              "      <td>0.073588</td>\n",
              "      <td>7.4%</td>\n",
              "    </tr>\n",
              "    <tr>\n",
              "      <th>4</th>\n",
              "      <td>banking-or-loans</td>\n",
              "      <td>159.0</td>\n",
              "      <td>0.063246</td>\n",
              "      <td>6.3%</td>\n",
              "    </tr>\n",
              "    <tr>\n",
              "      <th>5</th>\n",
              "      <td>engineering-or-architecture</td>\n",
              "      <td>157.0</td>\n",
              "      <td>0.062450</td>\n",
              "      <td>6.2%</td>\n",
              "    </tr>\n",
              "    <tr>\n",
              "      <th>6</th>\n",
              "      <td>upper-management-or-consulting</td>\n",
              "      <td>109.0</td>\n",
              "      <td>0.043357</td>\n",
              "      <td>4.3%</td>\n",
              "    </tr>\n",
              "    <tr>\n",
              "      <th>7</th>\n",
              "      <td>marketing-or-advertising-or-pr</td>\n",
              "      <td>76.0</td>\n",
              "      <td>0.030231</td>\n",
              "      <td>3.0%</td>\n",
              "    </tr>\n",
              "    <tr>\n",
              "      <th>8</th>\n",
              "      <td>accounting/finance</td>\n",
              "      <td>71.0</td>\n",
              "      <td>0.028242</td>\n",
              "      <td>2.8%</td>\n",
              "    </tr>\n",
              "    <tr>\n",
              "      <th>9</th>\n",
              "      <td>government-or-military</td>\n",
              "      <td>70.0</td>\n",
              "      <td>0.027844</td>\n",
              "      <td>2.8%</td>\n",
              "    </tr>\n",
              "    <tr>\n",
              "      <th>41</th>\n",
              "      <td>other</td>\n",
              "      <td>537.0</td>\n",
              "      <td>0.213604</td>\n",
              "      <td>21.4%</td>\n",
              "    </tr>\n",
              "  </tbody>\n",
              "</table>\n",
              "</div>\n",
              "      <button class=\"colab-df-convert\" onclick=\"convertToInteractive('df-7cdc0df0-2573-48f3-8982-4a235305a7f2')\"\n",
              "              title=\"Convert this dataframe to an interactive table.\"\n",
              "              style=\"display:none;\">\n",
              "        \n",
              "  <svg xmlns=\"http://www.w3.org/2000/svg\" height=\"24px\"viewBox=\"0 0 24 24\"\n",
              "       width=\"24px\">\n",
              "    <path d=\"M0 0h24v24H0V0z\" fill=\"none\"/>\n",
              "    <path d=\"M18.56 5.44l.94 2.06.94-2.06 2.06-.94-2.06-.94-.94-2.06-.94 2.06-2.06.94zm-11 1L8.5 8.5l.94-2.06 2.06-.94-2.06-.94L8.5 2.5l-.94 2.06-2.06.94zm10 10l.94 2.06.94-2.06 2.06-.94-2.06-.94-.94-2.06-.94 2.06-2.06.94z\"/><path d=\"M17.41 7.96l-1.37-1.37c-.4-.4-.92-.59-1.43-.59-.52 0-1.04.2-1.43.59L10.3 9.45l-7.72 7.72c-.78.78-.78 2.05 0 2.83L4 21.41c.39.39.9.59 1.41.59.51 0 1.02-.2 1.41-.59l7.78-7.78 2.81-2.81c.8-.78.8-2.07 0-2.86zM5.41 20L4 18.59l7.72-7.72 1.47 1.35L5.41 20z\"/>\n",
              "  </svg>\n",
              "      </button>\n",
              "      \n",
              "  <style>\n",
              "    .colab-df-container {\n",
              "      display:flex;\n",
              "      flex-wrap:wrap;\n",
              "      gap: 12px;\n",
              "    }\n",
              "\n",
              "    .colab-df-convert {\n",
              "      background-color: #E8F0FE;\n",
              "      border: none;\n",
              "      border-radius: 50%;\n",
              "      cursor: pointer;\n",
              "      display: none;\n",
              "      fill: #1967D2;\n",
              "      height: 32px;\n",
              "      padding: 0 0 0 0;\n",
              "      width: 32px;\n",
              "    }\n",
              "\n",
              "    .colab-df-convert:hover {\n",
              "      background-color: #E2EBFA;\n",
              "      box-shadow: 0px 1px 2px rgba(60, 64, 67, 0.3), 0px 1px 3px 1px rgba(60, 64, 67, 0.15);\n",
              "      fill: #174EA6;\n",
              "    }\n",
              "\n",
              "    [theme=dark] .colab-df-convert {\n",
              "      background-color: #3B4455;\n",
              "      fill: #D2E3FC;\n",
              "    }\n",
              "\n",
              "    [theme=dark] .colab-df-convert:hover {\n",
              "      background-color: #434B5C;\n",
              "      box-shadow: 0px 1px 3px 1px rgba(0, 0, 0, 0.15);\n",
              "      filter: drop-shadow(0px 1px 2px rgba(0, 0, 0, 0.3));\n",
              "      fill: #FFFFFF;\n",
              "    }\n",
              "  </style>\n",
              "\n",
              "      <script>\n",
              "        const buttonEl =\n",
              "          document.querySelector('#df-7cdc0df0-2573-48f3-8982-4a235305a7f2 button.colab-df-convert');\n",
              "        buttonEl.style.display =\n",
              "          google.colab.kernel.accessAllowed ? 'block' : 'none';\n",
              "\n",
              "        async function convertToInteractive(key) {\n",
              "          const element = document.querySelector('#df-7cdc0df0-2573-48f3-8982-4a235305a7f2');\n",
              "          const dataTable =\n",
              "            await google.colab.kernel.invokeFunction('convertToInteractive',\n",
              "                                                     [key], {});\n",
              "          if (!dataTable) return;\n",
              "\n",
              "          const docLinkHtml = 'Like what you see? Visit the ' +\n",
              "            '<a target=\"_blank\" href=https://colab.research.google.com/notebooks/data_table.ipynb>data table notebook</a>'\n",
              "            + ' to learn more about interactive tables.';\n",
              "          element.innerHTML = '';\n",
              "          dataTable['output_type'] = 'display_data';\n",
              "          await google.colab.output.renderOutput(dataTable, element);\n",
              "          const docLink = document.createElement('div');\n",
              "          docLink.innerHTML = docLinkHtml;\n",
              "          element.appendChild(docLink);\n",
              "        }\n",
              "      </script>\n",
              "    </div>\n",
              "  </div>\n",
              "  "
            ],
            "text/plain": [
              "                          industry  frequency  proportion percent\n",
              "0             computer-or-internet      529.0    0.210422   21.0%\n",
              "1            accounting-or-finance      376.0    0.149562   15.0%\n",
              "2                   administrative      245.0    0.097454    9.7%\n",
              "3      manufacturing-or-mechanical      185.0    0.073588    7.4%\n",
              "4                 banking-or-loans      159.0    0.063246    6.3%\n",
              "5      engineering-or-architecture      157.0    0.062450    6.2%\n",
              "6   upper-management-or-consulting      109.0    0.043357    4.3%\n",
              "7   marketing-or-advertising-or-pr       76.0    0.030231    3.0%\n",
              "8               accounting/finance       71.0    0.028242    2.8%\n",
              "9           government-or-military       70.0    0.027844    2.8%\n",
              "41                           other      537.0    0.213604   21.4%"
            ]
          },
          "execution_count": 48,
          "metadata": {},
          "output_type": "execute_result"
        },
        {
          "data": {
            "image/png": "[encoded data removed]",
            "text/plain": [
              "<Figure size 432x288 with 1 Axes>"
            ]
          },
          "metadata": {
            "needs_background": "light"
          },
          "output_type": "display_data"
        }
      ],
      "source": [
        "industrytable = df['category'].value_counts().rename_axis('industry').reset_index(name='frequency')\n",
        "other_count = industrytable.iloc[10:, 1].sum()\n",
        "industrytable.loc[len(industrytable['industry']),:] = ['other', other_count]\n",
        "industrytable = industrytable.drop(list(range(10, 41)))\n",
        "\n",
        "industrytable['proportion'] = industrytable['frequency'] / (industrytable['frequency'].sum())\n",
        "industrytable['percent'] = industrytable['proportion'].mul(100).round(1).astype(str) + '%'\n",
        "\n",
        "ax2 = sns.barplot(data=industrytable, x='industry', y='proportion', color=\"blue\")\n",
        "ax2.set(xlabel='Industry', ylabel='Proportion', title='Proportion of data jobs by industry')\n",
        "\n",
        "industrytable"
      ]
    },
    {
      "cell_type": "markdown",
      "metadata": {
        "id": "m0UtffpGKcio"
      },
      "source": [
        "## Bivariate analysis\n",
        "\n",
        "check for relationships between seniority and variables of interest:\n",
        "- since all categorical data, most appropriate method would be using chi-square test\n",
        "- but also consider effects of logistic regression\n",
        "\n",
        "results:\n",
        "- unexpected that have more senior level workers for both having and not having a particular skill/tool\n",
        "  - perhaps some skills are more universal, whereas some skills not required for management focused roles?\n",
        "  - exception/opposite or null effect: analysis, python, r, excel\n",
        "\n",
        "  - significant (p-value<0.05): analysis, visualization, excel, also sql nearly significant \n",
        "  - not sure for what reason these skills/tools relation with seniority \n",
        "  - suggests that basics are important (analysis, excel, sql)\n",
        "  - also some skills are specialized? (visualization)"
      ]
    },
    {
      "cell_type": "code",
      "execution_count": 75,
      "metadata": {
        "colab": {
          "base_uri": "https://localhost:8080/",
          "height": 1000
        },
        "id": "1zT61uSdK0uR",
        "outputId": "cf995c48-d02a-4f67-f5c8-0f37f195ef89"
      },
      "outputs": [
        {
          "name": "stdout",
          "output_type": "stream",
          "text": [
            "seniority         0    1\n",
            "transformation          \n",
            "0               766  912\n",
            "1               361  475\n",
            "Chi-sq value= 1.2759826897053277, p-value= 0.25864732455600536, Degrees of freedom= 1\n",
            "seniority    0    1\n",
            "technical          \n",
            "0          762  912\n",
            "1          365  475\n",
            "Chi-sq value= 0.884760709269525, p-value= 0.34690106644001095, Degrees of freedom= 1\n",
            "seniority     0     1\n",
            "analysis             \n",
            "0           104    82\n",
            "1          1023  1305\n",
            "Chi-sq value= 9.501126639428461, p-value= 0.0020534577317980105, Degrees of freedom= 1\n",
            "seniority        0     1\n",
            "visualization           \n",
            "0              915  1048\n",
            "1              212   339\n",
            "Chi-sq value= 11.190564366653609, p-value= 0.0008221433525602478, Degrees of freedom= 1\n",
            "seniority    0     1\n",
            "python              \n",
            "0          956  1190\n",
            "1          171   197\n",
            "Chi-sq value= 0.393531450766397, p-value= 0.5304489379004338, Degrees of freedom= 1\n",
            "seniority     0     1\n",
            "r                    \n",
            "0          1047  1301\n",
            "1            80    86\n",
            "Chi-sq value= 0.6740442143837556, p-value= 0.41164515315711836, Degrees of freedom= 1\n",
            "seniority    0     1\n",
            "sql                 \n",
            "0          854  1002\n",
            "1          273   385\n",
            "Chi-sq value= 3.8383044582955903, p-value= 0.05009415493936031, Degrees of freedom= 1\n",
            "seniority    0    1\n",
            "excel              \n",
            "0          468  499\n",
            "1          659  888\n",
            "Chi-sq value= 7.856662566621351, p-value= 0.005063377006620638, Degrees of freedom= 1\n",
            "seniority     0     1\n",
            "tableau              \n",
            "0          1049  1226\n",
            "1            78   161\n",
            "Chi-sq value= 15.335531795338603, p-value= 9.00075767203024e-05, Degrees of freedom= 1\n",
            "seniority     0     1\n",
            "power bi             \n",
            "0          1082  1338\n",
            "1            45    49\n",
            "Chi-sq value= 0.2490365683299372, p-value= 0.6177542776905643, Degrees of freedom= 1\n"
          ]
        },
        {
          "data": {
            "image/png": "[encoded data removed]",
            "text/plain": [
              "<Figure size 432x288 with 1 Axes>"
            ]
          },
          "metadata": {
            "needs_background": "light"
          },
          "output_type": "display_data"
        },
        {
          "data": {
            "image/png": "[encoded data removed]",
            "text/plain": [
              "<Figure size 432x288 with 1 Axes>"
            ]
          },
          "metadata": {
            "needs_background": "light"
          },
          "output_type": "display_data"
        },
        {
          "data": {
            "image/png": "[encoded data removed]",
            "text/plain": [
              "<Figure size 432x288 with 1 Axes>"
            ]
          },
          "metadata": {
            "needs_background": "light"
          },
          "output_type": "display_data"
        },
        {
          "data": {
            "image/png": "[encoded data removed]",
            "text/plain": [
              "<Figure size 432x288 with 1 Axes>"
            ]
          },
          "metadata": {
            "needs_background": "light"
          },
          "output_type": "display_data"
        },
        {
          "data": {
            "image/png": "[encoded data removed]",
            "text/plain": [
              "<Figure size 432x288 with 1 Axes>"
            ]
          },
          "metadata": {
            "needs_background": "light"
          },
          "output_type": "display_data"
        },
        {
          "data": {
            "image/png": "[encoded data removed]",
            "text/plain": [
              "<Figure size 432x288 with 1 Axes>"
            ]
          },
          "metadata": {
            "needs_background": "light"
          },
          "output_type": "display_data"
        },
        {
          "data": {
            "image/png": "[encoded data removed]",
            "text/plain": [
              "<Figure size 432x288 with 1 Axes>"
            ]
          },
          "metadata": {
            "needs_background": "light"
          },
          "output_type": "display_data"
        },
        {
          "data": {
            "image/png": "[encoded data removed]",
            "text/plain": [
              "<Figure size 432x288 with 1 Axes>"
            ]
          },
          "metadata": {
            "needs_background": "light"
          },
          "output_type": "display_data"
        },
        {
          "data": {
            "image/png": "[encoded data removed]",
            "text/plain": [
              "<Figure size 432x288 with 1 Axes>"
            ]
          },
          "metadata": {
            "needs_background": "light"
          },
          "output_type": "display_data"
        },
        {
          "data": {
            "image/png": "[encoded data removed]",
            "text/plain": [
              "<Figure size 432x288 with 1 Axes>"
            ]
          },
          "metadata": {
            "needs_background": "light"
          },
          "output_type": "display_data"
        }
      ],
      "source": [
        "for col in skills:\n",
        "  crosstab = pd.crosstab(df[col], df['seniority'])\n",
        "  print(crosstab)\n",
        "  crosstab.plot.bar(rot=0)\n",
        "  chi2, p, dof, expected = stats.chi2_contingency(crosstab)\n",
        "  print(f\"Chi-sq value= {chi2}, p-value= {p}, Degrees of freedom= {dof}\")\n",
        "\n",
        "for col in tools:\n",
        "  crosstab = pd.crosstab(df[col], df['seniority'])\n",
        "  print(crosstab)\n",
        "  crosstab.plot.bar(rot=0)\n",
        "  chi2, p, dof, expected = stats.chi2_contingency(crosstab)\n",
        "  print(f\"Chi-sq value= {chi2}, p-value= {p}, Degrees of freedom= {dof}\")\n"
      ]
    },
    {
      "cell_type": "markdown",
      "metadata": {
        "id": "34WQ7vn-K18r"
      },
      "source": [
        "check for balance of sample across years"
      ]
    },
    {
      "cell_type": "code",
      "execution_count": 50,
      "metadata": {
        "colab": {
          "base_uri": "https://localhost:8080/"
        },
        "id": "HaH3GOf_Lv2s",
        "outputId": "dbfd5d78-ecb9-4cc4-fb61-5b0071f25f86"
      },
      "outputs": [
        {
          "name": "stdout",
          "output_type": "stream",
          "text": [
            "2019 data: 969 \n",
            "2020 data: 772 \n",
            "2021 data: 773\n",
            "<class 'pandas.core.frame.DataFrame'>\n",
            "Int64Index: 2514 entries, 5 to 29907\n",
            "Data columns (total 20 columns):\n",
            " #   Column           Non-Null Count  Dtype \n",
            "---  ------           --------------  ----- \n",
            " 0   job_title        2514 non-null   object\n",
            " 1   category         2514 non-null   object\n",
            " 2   company_name     2514 non-null   object\n",
            " 3   city             2470 non-null   object\n",
            " 4   state            2337 non-null   object\n",
            " 5   country          2514 non-null   object\n",
            " 6   job_description  2514 non-null   object\n",
            " 7   y20              2514 non-null   int64 \n",
            " 8   y21              2514 non-null   int64 \n",
            " 9   seniority        2514 non-null   int64 \n",
            " 10  transformation   2514 non-null   int64 \n",
            " 11  technical        2514 non-null   int64 \n",
            " 12  analysis         2514 non-null   int64 \n",
            " 13  visualization    2514 non-null   int64 \n",
            " 14  python           2514 non-null   int64 \n",
            " 15  r                2514 non-null   int64 \n",
            " 16  sql              2514 non-null   int64 \n",
            " 17  excel            2514 non-null   int64 \n",
            " 18  tableau          2514 non-null   int64 \n",
            " 19  power bi         2514 non-null   int64 \n",
            "dtypes: int64(13), object(7)\n",
            "memory usage: 412.5+ KB\n"
          ]
        }
      ],
      "source": [
        "print('2019 data:', len(df[(df['y20']==0) & (df['y21']==0)]), '\\n2020 data:', df['y20'].sum(), '\\n2021 data:', df['y21'].sum())\n",
        "\n",
        "df.info()"
      ]
    },
    {
      "cell_type": "markdown",
      "metadata": {
        "id": "m4CvfLfcAhuj"
      },
      "source": [
        "data changelog:\n",
        "1. drop columns with mostly or all null values\n",
        "2. drop un-useful columns\n",
        "\n",
        "Notes:\n",
        "- datasets had different number of columns (2019: 29, 2020: 76, 2021: 54)\n",
        "- clean dataset separately to double check data types and non-nulls\n",
        "  - also, indicator variables for years planned for later\n",
        "  - re-order rows for each dataset to concat later\n",
        "- only filtered for exception to data jobs when they appeared more than twice, sizeable amount of noise in sample remains\n",
        "- restricted number of categories for descriptive stats for states and industry\n",
        "- not sure how to identify outliers for categorical data\n",
        "- not sure how to validate or correct data for data with many categories (job category definitely has mislabels, also 'risk manager' for seniority)\n",
        "  - also; mistype, misspell\n",
        "\n",
        "\n",
        "lessons:\n",
        "- pre-optimizing is bad\n",
        "- Colab is (*very*) limited\n",
        "- analysis only as good as data source\n",
        "- data cleaning/transformation/loading is 90% of the work\n",
        "- pipe style code \n",
        "\n",
        "next time:\n",
        "- GLM, ANOVA, factorial design"
      ]
    }
  ],
  "metadata": {
    "colab": {
      "collapsed_sections": [],
      "provenance": []
    },
    "kernelspec": {
      "display_name": "Python 3.10.6 ('venv': venv)",
      "language": "python",
      "name": "python3"
    },
    "language_info": {
      "name": "python",
      "version": "3.10.6"
    },
    "vscode": {
      "interpreter": {
        "hash": "9407e8d188eb6f35149f2c20daac65629f2f63309259e37ed272ce3b81ebddd5"
      }
    }
  },
  "nbformat": 4,
  "nbformat_minor": 0
}
